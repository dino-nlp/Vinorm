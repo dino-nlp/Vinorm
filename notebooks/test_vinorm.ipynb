{
 "cells": [
  {
   "cell_type": "markdown",
   "metadata": {},
   "source": [
    "# Test Vinorm\n",
    "\n",
    "https://github.com/v-nhandt21/Vinorm\n",
    "\n",
    "### Install\n",
    "\n",
    "```bash\n",
    "pip install vinorm\n",
    "```"
   ]
  },
  {
   "cell_type": "code",
   "execution_count": 15,
   "metadata": {},
   "outputs": [],
   "source": [
    "#!pip install vinorm"
   ]
  },
  {
   "cell_type": "code",
   "execution_count": 7,
   "metadata": {},
   "outputs": [
    {
     "data": {
      "text/plain": [
       "'có phải tháng mười hai năm hai nghìn không trăm hai mươi đã có vaccine phòng ngừa covid mười chín .. '"
      ]
     },
     "execution_count": 7,
     "metadata": {},
     "output_type": "execute_result"
    }
   ],
   "source": [
    "from vinorm import TTSnorm\n",
    "\n",
    "TTSnorm(text = \"Có phải tháng 12/2020 đã có vaccine phòng ngừa Covid-19?\",\n",
    "        punc = False,           # If true, do not replace punctuation with dot and coma\n",
    "        unknown = True,         # If true, replace unknown word, discard word undefine and do not contain vowel, do not spell word with vowel\n",
    "        lower = True,           # If true, get normalization with lowercase\n",
    "        rule = False)           # If true, just get normalization wit Regex, not using Dictionary Checking "
   ]
  },
  {
   "cell_type": "code",
   "execution_count": 10,
   "metadata": {},
   "outputs": [
    {
     "data": {
      "text/plain": [
       "'tôi mua chiếc điện thoại này với giá không đồng. '"
      ]
     },
     "execution_count": 10,
     "metadata": {},
     "output_type": "execute_result"
    }
   ],
   "source": [
    "TTSnorm(\"Tôi mua chiếc đt này với giá 0 đ\", lower=False)"
   ]
  },
  {
   "cell_type": "code",
   "execution_count": 14,
   "metadata": {},
   "outputs": [
    {
     "data": {
      "text/plain": [
       "'một con vịt xòe ra hai cái cánh , nó kêu rằng quoác quác quác quạc quạc quạc. '"
      ]
     },
     "execution_count": 14,
     "metadata": {},
     "output_type": "execute_result"
    }
   ],
   "source": [
    "TTSnorm(\"1 con vịt xòe ra 2 cái cánh; nó kêu rằng quoác quác quác quạc quạc quạc\", punc=False)"
   ]
  },
  {
   "cell_type": "code",
   "execution_count": 18,
   "metadata": {},
   "outputs": [
    {
     "data": {
      "text/plain": [
       "'một cộng hai bằng ba. '"
      ]
     },
     "execution_count": 18,
     "metadata": {},
     "output_type": "execute_result"
    }
   ],
   "source": [
    "TTSnorm(\"1+2=3\")"
   ]
  },
  {
   "cell_type": "code",
   "execution_count": null,
   "metadata": {},
   "outputs": [],
   "source": []
  }
 ],
 "metadata": {
  "kernelspec": {
   "display_name": "torch",
   "language": "python",
   "name": "python3"
  },
  "language_info": {
   "codemirror_mode": {
    "name": "ipython",
    "version": 3
   },
   "file_extension": ".py",
   "mimetype": "text/x-python",
   "name": "python",
   "nbconvert_exporter": "python",
   "pygments_lexer": "ipython3",
   "version": "3.10.11"
  }
 },
 "nbformat": 4,
 "nbformat_minor": 2
}
